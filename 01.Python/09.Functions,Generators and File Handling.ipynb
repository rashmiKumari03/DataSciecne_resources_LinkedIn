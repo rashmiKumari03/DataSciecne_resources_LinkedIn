{
 "cells": [
  {
   "cell_type": "raw",
   "id": "b9baab46",
   "metadata": {},
   "source": [
    "Revision of *args and **kwargs.\n",
    "\n",
    "**kwargs : This shows passing multiple arguments.If we have to pass data,in a way we are suppose to pass key as well as suppose to pass value then we will use **kwargs.This will return a dictionary as output.\n",
    "\n",
    "Whereas if we are passing data,in such a way that there is no restriction on the type of data to be passsed then for those kind of arguments we will use *args.This will return tuple as output."
   ]
  },
  {
   "cell_type": "code",
   "execution_count": 1,
   "id": "c8c06796",
   "metadata": {},
   "outputs": [],
   "source": [
    "def test1(**kwargs):\n",
    "    return kwargs"
   ]
  },
  {
   "cell_type": "code",
   "execution_count": 2,
   "id": "29bfa245",
   "metadata": {},
   "outputs": [
    {
     "data": {
      "text/plain": [
       "{'a': 'Hello', 'b': 'Good morning', 'c': [10, 20, 30], 'd': (1, 2, 3)}"
      ]
     },
     "execution_count": 2,
     "metadata": {},
     "output_type": "execute_result"
    }
   ],
   "source": [
    "test1(a='Hello',b='Good morning',c=[10,20,30],d=(1,2,3))"
   ]
  },
  {
   "cell_type": "code",
   "execution_count": 3,
   "id": "47545992",
   "metadata": {},
   "outputs": [],
   "source": [
    "def test2(*args):\n",
    "    return args"
   ]
  },
  {
   "cell_type": "code",
   "execution_count": 4,
   "id": "6809ceb5",
   "metadata": {},
   "outputs": [
    {
     "data": {
      "text/plain": [
       "('Hello', 'Good morning', [10, 20, 30], (1, 2, 3))"
      ]
     },
     "execution_count": 4,
     "metadata": {},
     "output_type": "execute_result"
    }
   ],
   "source": [
    "test2(\"Hello\",\"Good morning\",[10,20,30],(1,2,3))"
   ]
  },
  {
   "cell_type": "code",
   "execution_count": 5,
   "id": "88146b01",
   "metadata": {},
   "outputs": [],
   "source": [
    "def details(name,gmail_ext):\n",
    "    email_id= name+gmail_ext\n",
    "\n",
    "    return name,gmail_ext,email_id"
   ]
  },
  {
   "cell_type": "code",
   "execution_count": 6,
   "id": "3b8b7be3",
   "metadata": {},
   "outputs": [
    {
     "data": {
      "text/plain": [
       "('Rashmi', 'ai@gmail.com', 'Rashmiai@gmail.com')"
      ]
     },
     "execution_count": 6,
     "metadata": {},
     "output_type": "execute_result"
    }
   ],
   "source": [
    "details(\"Rashmi\",'ai@gmail.com')"
   ]
  },
  {
   "cell_type": "markdown",
   "id": "769abfbe",
   "metadata": {},
   "source": [
    "**✨Lambda Function**"
   ]
  },
  {
   "cell_type": "code",
   "execution_count": 7,
   "id": "f701c6c3",
   "metadata": {},
   "outputs": [],
   "source": [
    "def addition(x,y):\n",
    "    return x+y"
   ]
  },
  {
   "cell_type": "code",
   "execution_count": 8,
   "id": "ce9907ea",
   "metadata": {},
   "outputs": [
    {
     "data": {
      "text/plain": [
       "30"
      ]
     },
     "execution_count": 8,
     "metadata": {},
     "output_type": "execute_result"
    }
   ],
   "source": [
    "addition(10,20)"
   ]
  },
  {
   "cell_type": "code",
   "execution_count": 9,
   "id": "713a53d3",
   "metadata": {},
   "outputs": [],
   "source": [
    "# Similary kind of thing if we want to do but wihtout giving name to the function for that , we have lambda function to use."
   ]
  },
  {
   "cell_type": "markdown",
   "id": "500df977",
   "metadata": {},
   "source": [
    "Lambda is a keyword , used to create anonymous function ie. function without name."
   ]
  },
  {
   "cell_type": "code",
   "execution_count": 10,
   "id": "c91a20eb",
   "metadata": {},
   "outputs": [],
   "source": [
    "addition= lambda x,y :x+y   # No name for any function is there."
   ]
  },
  {
   "cell_type": "code",
   "execution_count": 11,
   "id": "bc0e9dbf",
   "metadata": {},
   "outputs": [
    {
     "data": {
      "text/plain": [
       "30"
      ]
     },
     "execution_count": 11,
     "metadata": {},
     "output_type": "execute_result"
    }
   ],
   "source": [
    "addition(10,20)"
   ]
  },
  {
   "cell_type": "code",
   "execution_count": 12,
   "id": "62976eae",
   "metadata": {},
   "outputs": [],
   "source": [
    "name='Rashmi'\n",
    "gmail_ext='ai@gmail.com'\n",
    "\n",
    "n=lambda arg1,arg2 : print(arg1,arg2,name+gmail_ext)"
   ]
  },
  {
   "cell_type": "code",
   "execution_count": 13,
   "id": "52e08140",
   "metadata": {},
   "outputs": [
    {
     "name": "stdout",
     "output_type": "stream",
     "text": [
      "Rashmi ai@gmail.com Rashmiai@gmail.com\n"
     ]
    }
   ],
   "source": [
    "n(name,gmail_ext)"
   ]
  },
  {
   "cell_type": "markdown",
   "id": "71be3481",
   "metadata": {},
   "source": [
    "Python Lambda Functions are anonymous function means that the function is without a name. As we already know that the def keyword is used to define a normal function in Python. Similarly, the lambda keyword is used to define an anonymous function in Python. \n",
    "\n",
    "ie.\n",
    "\n",
    "A lambda function, also known as an anonymous function or a function literal, is a feature available in many programming languages, including Python. It allows you to create small, unnamed functions without explicitly defining them using the def keyword. Lambda functions are typically used when you need a simple, one-line function and don't want to define a separate named function for it.\n",
    "\n",
    "Lambda functions are particularly useful in situations where you need to define a small function on the fly, without having to give it a name. They are commonly used in scenarios where you need to define quick callbacks or simple transformations.\n",
    "\n",
    "Regarding memory occupation, like any other function in programming, a lambda function occupies memory when it is defined. The memory required is typically minimal, as lambda functions are small and don't have associated metadata like function names. However, once a lambda function is defined, it exists in memory just like any other function until it goes out of scope or is garbage-collected."
   ]
  },
  {
   "cell_type": "code",
   "execution_count": 14,
   "id": "496715c0",
   "metadata": {},
   "outputs": [],
   "source": [
    "r=10          #Global Variable 'r' , we can access it anywhere even out of the function too.\n",
    "def div(a,b): \n",
    "    r=a/b     #Local variable 'r', we can access it only when we call the function and pass the value. \n",
    "              #returns r values as output.\n",
    "    return r"
   ]
  },
  {
   "cell_type": "code",
   "execution_count": 15,
   "id": "9179bb47",
   "metadata": {},
   "outputs": [
    {
     "data": {
      "text/plain": [
       "1.0"
      ]
     },
     "execution_count": 15,
     "metadata": {},
     "output_type": "execute_result"
    }
   ],
   "source": [
    "div(10,10)"
   ]
  },
  {
   "cell_type": "code",
   "execution_count": 16,
   "id": "ca84be8e",
   "metadata": {},
   "outputs": [
    {
     "data": {
      "text/plain": [
       "10"
      ]
     },
     "execution_count": 16,
     "metadata": {},
     "output_type": "execute_result"
    }
   ],
   "source": [
    "r"
   ]
  },
  {
   "cell_type": "markdown",
   "id": "24224a85",
   "metadata": {},
   "source": [
    "In the case of a **`local variable`**, it is declared and assigned a value within a specific scope, such as a function. On the other hand, a **`global variable`** is declared outside any function or scope and can be accessed and modified from anywhere within the program."
   ]
  },
  {
   "cell_type": "markdown",
   "id": "69e80b4d",
   "metadata": {},
   "source": [
    "**Lets write our own function and also write the docstring ie. details about the functions (if user press shift and tab after writing the function name ) then user will see the docstring|.**"
   ]
  },
  {
   "cell_type": "code",
   "execution_count": 17,
   "id": "343c660d",
   "metadata": {},
   "outputs": [],
   "source": [
    "def employee_detials(name,contact,designation,email):\n",
    "    return name,contact,designation,email"
   ]
  },
  {
   "cell_type": "code",
   "execution_count": 18,
   "id": "d24f9484",
   "metadata": {},
   "outputs": [
    {
     "data": {
      "text/plain": [
       "<function __main__.employee_detials(name, contact, designation, email)>"
      ]
     },
     "execution_count": 18,
     "metadata": {},
     "output_type": "execute_result"
    }
   ],
   "source": [
    "employee_detials    #If we press shift+tab we can see no docstring is written over here."
   ]
  },
  {
   "cell_type": "markdown",
   "id": "8694effd",
   "metadata": {},
   "source": [
    "Shows something like this:\n",
    "    \n",
    "    Signature: employee_detials()\n",
    "    Docstring: <no docstring>\n",
    "    File:      c:\\users\\admin\\appdata\\local\\temp\\ipykernel_18068\\3301014972.py\n",
    "    Type:      function"
   ]
  },
  {
   "cell_type": "code",
   "execution_count": 19,
   "id": "9164f234",
   "metadata": {},
   "outputs": [],
   "source": [
    "#Lets introduction about the function as docstring."
   ]
  },
  {
   "cell_type": "code",
   "execution_count": 20,
   "id": "c42b1ddd",
   "metadata": {},
   "outputs": [],
   "source": [
    "def employee_detials(name,contact,designation,email):\n",
    "    \"\"\"This is a function employee_details which stores the data of employee of this company.\n",
    "    arugments are name , contact ,designation and email.\n",
    "    No default value is there for anything . You need to enter everything.\"\"\"\n",
    "    \n",
    "    return name,contact,designation,email"
   ]
  },
  {
   "cell_type": "code",
   "execution_count": 21,
   "id": "34339fd9",
   "metadata": {},
   "outputs": [
    {
     "data": {
      "text/plain": [
       "<function __main__.employee_detials(name, contact, designation, email)>"
      ]
     },
     "execution_count": 21,
     "metadata": {},
     "output_type": "execute_result"
    }
   ],
   "source": [
    " employee_detials #Now if we will see will get as below:Signature: employee_detials()"
   ]
  },
  {
   "cell_type": "raw",
   "id": "de9079da",
   "metadata": {},
   "source": [
    "Docstring:\n",
    "This is a function employee_details which stores the data of employee of this company.\n",
    "arugments are name , contact ,designation and email."
   ]
  },
  {
   "cell_type": "code",
   "execution_count": 22,
   "id": "95a40ce2",
   "metadata": {},
   "outputs": [
    {
     "data": {
      "text/plain": [
       "('Rash', '+919887898789', 'Data Scientist', 'rasmehta828@gmail.com')"
      ]
     },
     "execution_count": 22,
     "metadata": {},
     "output_type": "execute_result"
    }
   ],
   "source": [
    "employee_detials(\"Rash\",\"+919887898789\",'Data Scientist','rasmehta828@gmail.com')"
   ]
  },
  {
   "cell_type": "markdown",
   "id": "31c5e3ab",
   "metadata": {},
   "source": [
    "✨✨✨✨✨✨✨✨✨✨✨✨✨✨✨✨✨✨✨✨✨✨✨✨✨✨✨✨✨✨✨✨✨✨✨✨✨✨✨✨✨✨✨✨✨✨✨✨✨"
   ]
  },
  {
   "cell_type": "markdown",
   "id": "7eb6ef5a",
   "metadata": {},
   "source": [
    "### Iterable  Vs Iterator "
   ]
  },
  {
   "cell_type": "code",
   "execution_count": 23,
   "id": "b3dd26b8",
   "metadata": {},
   "outputs": [],
   "source": [
    "# If will consider a variable a=10 and if we use for loop over it then-\n",
    "\n",
    "a=10"
   ]
  },
  {
   "cell_type": "raw",
   "id": "68192b48",
   "metadata": {},
   "source": [
    "for i in a:\n",
    "    print(i)   TypeError: 'int' object is not iterable"
   ]
  },
  {
   "cell_type": "markdown",
   "id": "eda3385c",
   "metadata": {},
   "source": [
    "**What is the difference between Iterator, Iterable and Generator,then we will be able to under the internal mechanisum of\n",
    "for loop as well**"
   ]
  },
  {
   "cell_type": "code",
   "execution_count": 24,
   "id": "6e9b6c70",
   "metadata": {},
   "outputs": [
    {
     "name": "stdout",
     "output_type": "stream",
     "text": [
      "H\n",
      "e\n",
      "l\n",
      "l\n",
      "o\n"
     ]
    }
   ],
   "source": [
    "for i in \"Hello\":\n",
    "    print(i)"
   ]
  },
  {
   "cell_type": "markdown",
   "id": "83cb2bea",
   "metadata": {},
   "source": [
    "We know whenever we try to store data in the form of string we actually stroe it in the form of indexes."
   ]
  },
  {
   "cell_type": "markdown",
   "id": "4039ee01",
   "metadata": {},
   "source": [
    "Now if someone ask to give the each element of the string but wihtout using any loop,indexing or slicing then can we do that ?\n",
    "Answer is Yes."
   ]
  },
  {
   "cell_type": "raw",
   "id": "a6c7f13f",
   "metadata": {},
   "source": [
    "next(\"Hello\")    TypeError: 'str' object is not an iterator"
   ]
  },
  {
   "cell_type": "markdown",
   "id": "1e409db3",
   "metadata": {},
   "source": [
    "**Understand int is not iterable whereas str is not an iterator.Iterator is a kind of object or an entity out of which we can extract data based on indexes.**\n",
    "\n",
    "* Iterable: Collection of elements. eg.String ,list,tuple,dict,set.\n",
    "* Iterator: Object for accessing elements sequentially.\n",
    "\n",
    "\n",
    "An iterable is a container object that can be iterated upon, while an iterator is an object that allows us to iterate over the elements of an iterable, providing access to them one by one.  (Able to remember what we have done last time and what we have to do next)\n",
    "\n",
    "In the case of the string \"Hello\", the string itself is an iterable, and we can convert it to an iterator using the iter() function. The iterator will allow us to access each letter of the string without using indices, slicing, or any loop."
   ]
  },
  {
   "cell_type": "code",
   "execution_count": 25,
   "id": "b902c1a6",
   "metadata": {},
   "outputs": [],
   "source": [
    "s='Hello'"
   ]
  },
  {
   "cell_type": "code",
   "execution_count": 26,
   "id": "beeb10a0",
   "metadata": {},
   "outputs": [
    {
     "data": {
      "text/plain": [
       "'Hello'"
      ]
     },
     "execution_count": 26,
     "metadata": {},
     "output_type": "execute_result"
    }
   ],
   "source": [
    "s"
   ]
  },
  {
   "cell_type": "code",
   "execution_count": 27,
   "id": "1f261cc0",
   "metadata": {},
   "outputs": [
    {
     "data": {
      "text/plain": [
       "<str_iterator at 0x1b9d72cf8b0>"
      ]
     },
     "execution_count": 27,
     "metadata": {},
     "output_type": "execute_result"
    }
   ],
   "source": [
    "i=iter(s)\n",
    "i"
   ]
  },
  {
   "cell_type": "code",
   "execution_count": 28,
   "id": "97dfe870",
   "metadata": {},
   "outputs": [
    {
     "data": {
      "text/plain": [
       "'H'"
      ]
     },
     "execution_count": 28,
     "metadata": {},
     "output_type": "execute_result"
    }
   ],
   "source": [
    "next(i)"
   ]
  },
  {
   "cell_type": "code",
   "execution_count": 29,
   "id": "a7be6e21",
   "metadata": {},
   "outputs": [
    {
     "data": {
      "text/plain": [
       "'e'"
      ]
     },
     "execution_count": 29,
     "metadata": {},
     "output_type": "execute_result"
    }
   ],
   "source": [
    "next(i)"
   ]
  },
  {
   "cell_type": "code",
   "execution_count": 30,
   "id": "ab4b1343",
   "metadata": {},
   "outputs": [
    {
     "data": {
      "text/plain": [
       "'l'"
      ]
     },
     "execution_count": 30,
     "metadata": {},
     "output_type": "execute_result"
    }
   ],
   "source": [
    "next(i)"
   ]
  },
  {
   "cell_type": "code",
   "execution_count": 31,
   "id": "8142338b",
   "metadata": {},
   "outputs": [
    {
     "data": {
      "text/plain": [
       "'l'"
      ]
     },
     "execution_count": 31,
     "metadata": {},
     "output_type": "execute_result"
    }
   ],
   "source": [
    "next(i)"
   ]
  },
  {
   "cell_type": "code",
   "execution_count": 32,
   "id": "59b9142e",
   "metadata": {},
   "outputs": [
    {
     "data": {
      "text/plain": [
       "'o'"
      ]
     },
     "execution_count": 32,
     "metadata": {},
     "output_type": "execute_result"
    }
   ],
   "source": [
    "next(i)"
   ]
  },
  {
   "cell_type": "raw",
   "id": "4a868f5b",
   "metadata": {},
   "source": [
    "next(i)   #No more data left that's why it gives us the error.\n",
    "\n",
    "\n",
    "StopIteration                             Traceback (most recent call last)\n",
    "~\\AppData\\Local\\Temp\\ipykernel_15036\\1939748483.py in <module>\n",
    "----> 1 next(i)\n",
    "\n",
    "StopIteration: "
   ]
  },
  {
   "cell_type": "code",
   "execution_count": 33,
   "id": "0fbe2361",
   "metadata": {},
   "outputs": [
    {
     "name": "stdout",
     "output_type": "stream",
     "text": [
      "H\n",
      "e\n",
      "l\n",
      "l\n",
      "o\n"
     ]
    }
   ],
   "source": [
    "my_string = \"Hello\"  # Iterable\n",
    "\n",
    "# Creating an iterator from the iterable\n",
    "my_iterator = iter(my_string)\n",
    "\n",
    "# Accessing each letter using the iterator\n",
    "print(next(my_iterator))  # 'H'\n",
    "print(next(my_iterator))  # 'e'\n",
    "print(next(my_iterator))  # 'l'\n",
    "print(next(my_iterator))  # 'l'\n",
    "print(next(my_iterator))  # 'o'\n"
   ]
  },
  {
   "cell_type": "raw",
   "id": "65b562ae",
   "metadata": {},
   "source": [
    "# Trying to access more letters raises StopIteration\n",
    "print(next(my_iterator))  # StopIteration exception"
   ]
  },
  {
   "cell_type": "markdown",
   "id": "c52c6015",
   "metadata": {},
   "source": [
    "---------------------------------------------------------------------------------------------------------------------------\n",
    "* List of iterables: [list, tuple, dictionary, set, string]\n",
    "\n",
    "* List of iterators: [list iterator, tuple iterator, dictionary iterator, set iterator, string iterator]"
   ]
  },
  {
   "cell_type": "code",
   "execution_count": 34,
   "id": "a5a8f7ee",
   "metadata": {},
   "outputs": [
    {
     "name": "stdout",
     "output_type": "stream",
     "text": [
      "1\n",
      "2\n",
      "3\n",
      "4\n",
      "5\n"
     ]
    }
   ],
   "source": [
    "# List iterable\n",
    "my_list = [1, 2, 3, 4, 5]\n",
    "for item in my_list:       #for loop converts this iterable object to iterator and the prints the object.\n",
    "                           #Without loop if we jsut use next(my_list) this shows error that list is not iterator.\n",
    "    print(item)"
   ]
  },
  {
   "cell_type": "code",
   "execution_count": 35,
   "id": "323b74af",
   "metadata": {},
   "outputs": [
    {
     "name": "stdout",
     "output_type": "stream",
     "text": [
      "6\n",
      "7\n",
      "8\n",
      "9\n",
      "10\n"
     ]
    }
   ],
   "source": [
    "# Tuple iterable\n",
    "my_tuple = (6, 7, 8, 9, 10)\n",
    "for item in my_tuple:      #for loop converts this iterable object to iterator and the prints the object.\n",
    "                           #Without loop if we jsut use next(my_tuple) this shows error that tuple is not iterator.\n",
    "    print(item)"
   ]
  },
  {
   "cell_type": "code",
   "execution_count": 36,
   "id": "917b5106",
   "metadata": {},
   "outputs": [
    {
     "name": "stdout",
     "output_type": "stream",
     "text": [
      "a 1\n",
      "b 2\n",
      "c 3\n"
     ]
    }
   ],
   "source": [
    "# Dictionary iterable\n",
    "my_dict = {'a': 1, 'b': 2, 'c': 3}\n",
    "for key, value in my_dict.items():  #for loop converts this iterable object to iterator and the prints the object.\n",
    "                                   #Without loop if we jsut use next(my_dict) this shows error that dict is not iterator.\n",
    "    print(key, value)"
   ]
  },
  {
   "cell_type": "code",
   "execution_count": 37,
   "id": "9824ebc1",
   "metadata": {},
   "outputs": [
    {
     "name": "stdout",
     "output_type": "stream",
     "text": [
      "11\n",
      "12\n",
      "13\n",
      "14\n",
      "15\n"
     ]
    }
   ],
   "source": [
    "# Set iterable\n",
    "my_set = {11, 12, 13, 14, 15}\n",
    "for item in my_set:             #for loop converts this iterable object to iterator and the prints the object.\n",
    "                           #Without loop if we jsut use next(my_set) this shows error that set is not iterator.\n",
    "    print(item)"
   ]
  },
  {
   "cell_type": "code",
   "execution_count": 38,
   "id": "04c61772",
   "metadata": {},
   "outputs": [
    {
     "name": "stdout",
     "output_type": "stream",
     "text": [
      "H\n",
      "e\n",
      "l\n",
      "l\n",
      "o\n"
     ]
    }
   ],
   "source": [
    "# String iterable\n",
    "my_string = \"Hello\"\n",
    "for char in my_string:   #for loop converts this iterable object to iterator and the prints the object.\n",
    "                           #Without loop if we jsut use next(my_string) this shows error that string is not iterator.\n",
    "    print(char)\n"
   ]
  },
  {
   "cell_type": "code",
   "execution_count": 39,
   "id": "6e9d65c7",
   "metadata": {},
   "outputs": [
    {
     "name": "stdout",
     "output_type": "stream",
     "text": [
      "1\n",
      "2\n",
      "3\n"
     ]
    }
   ],
   "source": [
    "# List iterator\n",
    "list_iterator = iter(my_list)\n",
    "print(next(list_iterator))  # 1\n",
    "print(next(list_iterator))  # 2\n",
    "print(next(list_iterator))  # 3"
   ]
  },
  {
   "cell_type": "code",
   "execution_count": 40,
   "id": "65610bc8",
   "metadata": {},
   "outputs": [
    {
     "name": "stdout",
     "output_type": "stream",
     "text": [
      "6\n",
      "7\n",
      "8\n"
     ]
    }
   ],
   "source": [
    "# Tuple iterator\n",
    "tuple_iterator = iter(my_tuple)\n",
    "print(next(tuple_iterator))  # 6\n",
    "print(next(tuple_iterator))  # 7\n",
    "print(next(tuple_iterator))  # 8\n"
   ]
  },
  {
   "cell_type": "code",
   "execution_count": 41,
   "id": "3dd22cf4",
   "metadata": {},
   "outputs": [
    {
     "name": "stdout",
     "output_type": "stream",
     "text": [
      "a\n",
      "b\n",
      "c\n"
     ]
    }
   ],
   "source": [
    "# Dictionary iterator\n",
    "dict_iterator = iter(my_dict)\n",
    "print(next(dict_iterator))  # 'a'\n",
    "print(next(dict_iterator))  # 'b'\n",
    "print(next(dict_iterator))  # 'c'"
   ]
  },
  {
   "cell_type": "code",
   "execution_count": 42,
   "id": "93175fa0",
   "metadata": {},
   "outputs": [
    {
     "name": "stdout",
     "output_type": "stream",
     "text": [
      "11\n",
      "12\n",
      "13\n"
     ]
    }
   ],
   "source": [
    "# Set iterator\n",
    "set_iterator = iter(my_set)\n",
    "print(next(set_iterator))  # 11\n",
    "print(next(set_iterator))  # 12\n",
    "print(next(set_iterator))  # 13"
   ]
  },
  {
   "cell_type": "code",
   "execution_count": 43,
   "id": "df5d33bc",
   "metadata": {},
   "outputs": [
    {
     "name": "stdout",
     "output_type": "stream",
     "text": [
      "H\n",
      "e\n",
      "l\n"
     ]
    }
   ],
   "source": [
    "# String iterator\n",
    "string_iterator = iter(my_string)\n",
    "print(next(string_iterator))  # 'H'\n",
    "print(next(string_iterator))  # 'e'\n",
    "print(next(string_iterator))  # 'l'"
   ]
  },
  {
   "cell_type": "markdown",
   "id": "76418559",
   "metadata": {},
   "source": [
    "**String is bydefault as iterable object but it is not an iterator. That is even if we apply next() to it, it won't give us \n",
    "the element or next element.So Something is needed which will force iterable object to do that to print elements one ny one\n",
    "and that is done using iter() which makes the iterable object to an iterator.\n",
    "Also while we are using loop and we are considering the string only like for i in \"hello\" , then in that case: for loop\n",
    "converts the iterable string to iterator object.**"
   ]
  },
  {
   "cell_type": "markdown",
   "id": "742d93ae",
   "metadata": {},
   "source": [
    "**Interview Question: LIST is iterator object or not?**\n",
    "\n",
    "`Answer:` No, list is not an iterator object , it is an iterable object.If we want to make it iterator object we can do that using iter() function on list.\n",
    "    and then we can access each element of the list even without using index or slicing or any loop , just by using next() function on the iterator.\n",
    "    \n",
    "    Same things goes with String,Tuple,Dict and set too."
   ]
  },
  {
   "cell_type": "markdown",
   "id": "c65127f8",
   "metadata": {},
   "source": [
    "-------------------------------------------------------------------------------------------------------------"
   ]
  },
  {
   "cell_type": "markdown",
   "id": "6ea7b190",
   "metadata": {},
   "source": [
    "### Generator"
   ]
  },
  {
   "cell_type": "code",
   "execution_count": 44,
   "id": "96c5b379",
   "metadata": {},
   "outputs": [],
   "source": [
    "#Normal Function : Return cube for each of the element.\n",
    "\n",
    "def test(n):\n",
    "    l=[]\n",
    "    for i in range(n):\n",
    "        l.append(i**3)\n",
    "        \n",
    "    return l"
   ]
  },
  {
   "cell_type": "code",
   "execution_count": 45,
   "id": "4eefb05a",
   "metadata": {},
   "outputs": [
    {
     "data": {
      "text/plain": [
       "[0, 1, 8, 27, 64, 125]"
      ]
     },
     "execution_count": 45,
     "metadata": {},
     "output_type": "execute_result"
    }
   ],
   "source": [
    "test(6)"
   ]
  },
  {
   "cell_type": "markdown",
   "id": "6fd2c027",
   "metadata": {},
   "source": [
    "**Suppose we have to do this for n as 600000000000 then it would take long time to get executed.\n",
    "Also Unless it won't finsh its calculation and append for each element it won't show us the output.\n",
    "But Suppose we want something like do calculation and just show the output one after the other without stroring the entire data and continously shows the output in that case we are suppose to use something called `yield` in place of `return`.**"
   ]
  },
  {
   "cell_type": "code",
   "execution_count": 46,
   "id": "4359a2a1",
   "metadata": {},
   "outputs": [],
   "source": [
    "def test(n):\n",
    "\n",
    "    for i in range(n):\n",
    "        yield i**3"
   ]
  },
  {
   "cell_type": "code",
   "execution_count": 47,
   "id": "c2558c10",
   "metadata": {},
   "outputs": [
    {
     "data": {
      "text/plain": [
       "<generator object test at 0x000001B9D72EF270>"
      ]
     },
     "execution_count": 47,
     "metadata": {},
     "output_type": "execute_result"
    }
   ],
   "source": [
    "test(10)  #This function is a Generator function.THis wont give output ,rather this helps to provide the output."
   ]
  },
  {
   "cell_type": "code",
   "execution_count": 48,
   "id": "96b9f816",
   "metadata": {},
   "outputs": [
    {
     "name": "stdout",
     "output_type": "stream",
     "text": [
      "0\n",
      "1\n",
      "8\n",
      "27\n",
      "64\n",
      "125\n"
     ]
    }
   ],
   "source": [
    "for i in test(6):\n",
    "    print(i)"
   ]
  },
  {
   "cell_type": "code",
   "execution_count": 49,
   "id": "4843b5a6",
   "metadata": {},
   "outputs": [
    {
     "data": {
      "text/plain": [
       "range(0, 6)"
      ]
     },
     "execution_count": 49,
     "metadata": {},
     "output_type": "execute_result"
    }
   ],
   "source": [
    "range(0,6)  #This is also inbuilt generator kind of function."
   ]
  },
  {
   "cell_type": "code",
   "execution_count": 50,
   "id": "f2fef214",
   "metadata": {},
   "outputs": [
    {
     "name": "stdout",
     "output_type": "stream",
     "text": [
      "0\n",
      "1\n",
      "2\n",
      "3\n",
      "4\n",
      "5\n"
     ]
    }
   ],
   "source": [
    "for i in range(0,6):\n",
    "    print(i)"
   ]
  },
  {
   "cell_type": "markdown",
   "id": "f1ec39ce",
   "metadata": {},
   "source": [
    "Note: When we use this test() for 600000 now this will give us data one by one this won't wait to get finsih first and then show output . No this will give the data line in line...one by one....this is done using yield ."
   ]
  },
  {
   "cell_type": "markdown",
   "id": "525a9fca",
   "metadata": {},
   "source": [
    "In Python, a generator is a special type of iterator that allows you to generate a sequence of values on-the-fly. Unlike regular functions that return a value and then terminate, generators can pause and resume their execution, preserving their internal state between calls.\n",
    "\n",
    "Generators are defined using a syntax similar to regular functions but with a key difference: they use the yield statement instead of the return statement to produce a value. When a generator function is called, it returns an iterator object that can be iterated over using a loop or other iterable methods."
   ]
  },
  {
   "cell_type": "markdown",
   "id": "4f6366d1",
   "metadata": {},
   "source": [
    "---------------------------------------------------------------------------------------------------------------------------"
   ]
  },
  {
   "cell_type": "raw",
   "id": "7e755091",
   "metadata": {},
   "source": [
    "Just for Knowledge : Does in chatgpt generator fucntion of python was used?\n",
    "\n",
    "Yes, the `generator` function in Python was used in the implementation of ChatGPT. The generator function is a special type of function that returns an iterator, which can be iterated over using a `for` loop or by calling the `next()` function on it. In the case of ChatGPT, the generator function is used to generate responses to user inputs during a conversation.\n",
    "\n",
    "The generator function allows ChatGPT to yield one response at a time, rather than generating all possible responses at once. This is useful for memory efficiency and responsiveness, as it allows the model to generate responses on-the-fly as the conversation progresses. The generator function also allows for easy integration with other code or frameworks that expect an iterable, such as a web application or a command-line interface."
   ]
  },
  {
   "cell_type": "code",
   "execution_count": 51,
   "id": "7b312ea4",
   "metadata": {},
   "outputs": [],
   "source": [
    "#Lets Create Fibonacci Series.The Fibonacci series is an infinite series, starting from '0' and '1', in which every number\n",
    "#in the series is the sum of two numbers preceding it in the series."
   ]
  },
  {
   "cell_type": "code",
   "execution_count": 52,
   "id": "8c2297c8",
   "metadata": {},
   "outputs": [],
   "source": [
    "def fib(n):\n",
    "    a=0\n",
    "    b=1\n",
    "\n",
    "    output=[]\n",
    "    for i in range(n):\n",
    "        output.append(a)\n",
    "        a,b=b,a+b\n",
    "    return output"
   ]
  },
  {
   "cell_type": "code",
   "execution_count": 53,
   "id": "022414fa",
   "metadata": {},
   "outputs": [
    {
     "data": {
      "text/plain": [
       "[0, 1, 1, 2, 3, 5, 8, 13, 21, 34]"
      ]
     },
     "execution_count": 53,
     "metadata": {},
     "output_type": "execute_result"
    }
   ],
   "source": [
    "fib(10)"
   ]
  },
  {
   "cell_type": "code",
   "execution_count": 54,
   "id": "49f8360e",
   "metadata": {},
   "outputs": [],
   "source": [
    "#Aim: To Convert this above fibonaci series function to as generator function."
   ]
  },
  {
   "cell_type": "code",
   "execution_count": 55,
   "id": "a7e87d97",
   "metadata": {},
   "outputs": [],
   "source": [
    "def genfib(n):\n",
    "    a=0\n",
    "    b=1\n",
    "    \n",
    "    for i in range(n):\n",
    "        a,b=b,a+b\n",
    "        yield a"
   ]
  },
  {
   "cell_type": "code",
   "execution_count": 56,
   "id": "d214f300",
   "metadata": {},
   "outputs": [
    {
     "data": {
      "text/plain": [
       "<generator object genfib at 0x000001B9D72EF9E0>"
      ]
     },
     "execution_count": 56,
     "metadata": {},
     "output_type": "execute_result"
    }
   ],
   "source": [
    "genfib(10)   #This is Generator Function."
   ]
  },
  {
   "cell_type": "code",
   "execution_count": 57,
   "id": "ae9aa42f",
   "metadata": {},
   "outputs": [
    {
     "name": "stdout",
     "output_type": "stream",
     "text": [
      "1\n",
      "1\n",
      "2\n",
      "3\n",
      "5\n",
      "8\n",
      "13\n",
      "21\n",
      "34\n",
      "55\n"
     ]
    }
   ],
   "source": [
    "for i in genfib(10):\n",
    "    print(i)"
   ]
  },
  {
   "cell_type": "markdown",
   "id": "01adf30b",
   "metadata": {},
   "source": [
    "---------------------------------------------------------------------------------------------------------------------------\n",
    "✨✨✨✨✨✨✨✨✨✨✨✨✨✨✨✨✨✨✨✨✨✨✨✨✨✨✨✨✨✨✨✨✨✨✨✨✨✨✨✨✨✨✨✨✨✨✨✨\n",
    "\n",
    "### File Handling"
   ]
  },
  {
   "cell_type": "markdown",
   "id": "64bab2ea",
   "metadata": {},
   "source": [
    "It allows us to handle files by performing wide range of operations like creating,reading,appending,writing,renaming etc."
   ]
  },
  {
   "cell_type": "markdown",
   "id": "965dbba9",
   "metadata": {},
   "source": [
    "**Opening a File.**"
   ]
  },
  {
   "cell_type": "raw",
   "id": "2575aa5c",
   "metadata": {},
   "source": [
    "Suppose if the file is not available but still we are trying to open it then, this will through an error to use.\n",
    "\n",
    "f=open(\"text1.txt\")\n",
    "\n",
    "\n",
    "FileNotFoundError: [Errno 2] No such file or directory: 'text1.txt'"
   ]
  },
  {
   "cell_type": "code",
   "execution_count": 58,
   "id": "cfbcf3d2",
   "metadata": {},
   "outputs": [],
   "source": [
    "#But as if i will introduce just one thing ie. 'wb' then no error will be there.This is because , after introducing this\n",
    "#'wb' to open(),if file is not there then this will create a file with same name as mentioned and open it when asked.\n",
    "\n",
    "f=open(\"text1.txt\",'wb')  #mode : 'wb' stands for writing in a binary format."
   ]
  },
  {
   "cell_type": "raw",
   "id": "52137e56",
   "metadata": {},
   "source": [
    "Character Meaning for mode\n",
    "--------- ---------------------------------------------------------------\n",
    "'r'       open for reading (default)\n",
    "'w'       open for writing(if file doesnot exist), truncating the file first(if file exist)\n",
    "'x'       create a new file and open it for writing\n",
    "'a'       open for writing, appending to the end of the file if it exists\n",
    "'b'       binary mode\n",
    "'t'       text mode (default)\n",
    "'+'       open a disk file for updating (reading and writing)\n",
    "'U'       universal newline mode (deprecated)"
   ]
  },
  {
   "cell_type": "markdown",
   "id": "5df9b4cf",
   "metadata": {},
   "source": [
    "Therefore while we are using 'wb', this means open for writing and in binary mode."
   ]
  },
  {
   "cell_type": "markdown",
   "id": "be706d97",
   "metadata": {},
   "source": [
    "**Writing in File**"
   ]
  },
  {
   "cell_type": "code",
   "execution_count": 59,
   "id": "25ff8e94",
   "metadata": {},
   "outputs": [],
   "source": [
    "#Lets write something in file.\n",
    "filename=open('text2.txt',\"w\")  #Here text2 is not there so first this will be created as we have writing 'w' "
   ]
  },
  {
   "cell_type": "code",
   "execution_count": 60,
   "id": "ef391463",
   "metadata": {},
   "outputs": [
    {
     "data": {
      "text/plain": [
       "79"
      ]
     },
     "execution_count": 60,
     "metadata": {},
     "output_type": "execute_result"
    }
   ],
   "source": [
    "filename.write(r'Hello there this is second text file . In this we are trying to write something') \n",
    "\n",
    "#Then using this code for writing we will write things as per our desire."
   ]
  },
  {
   "cell_type": "code",
   "execution_count": 61,
   "id": "a1c80101",
   "metadata": {},
   "outputs": [],
   "source": [
    "#To close the file we have to use this .close() \n",
    "filename.close()"
   ]
  },
  {
   "cell_type": "markdown",
   "id": "698fdcc3",
   "metadata": {},
   "source": [
    "---------------------------------------------------------------------------------------------------------------------------"
   ]
  },
  {
   "cell_type": "code",
   "execution_count": 62,
   "id": "2f4efc9d",
   "metadata": {},
   "outputs": [],
   "source": [
    "#Lets open and read the content from text2.txt file."
   ]
  },
  {
   "cell_type": "code",
   "execution_count": 63,
   "id": "bd7840e0",
   "metadata": {},
   "outputs": [],
   "source": [
    "filename=open('text2.txt')  #Just opening the file as it already exists."
   ]
  },
  {
   "cell_type": "code",
   "execution_count": 64,
   "id": "4fd57c56",
   "metadata": {},
   "outputs": [
    {
     "data": {
      "text/plain": [
       "'Hello there this is second text file . In this we are trying to write something'"
      ]
     },
     "execution_count": 64,
     "metadata": {},
     "output_type": "execute_result"
    }
   ],
   "source": [
    "filename.read()"
   ]
  },
  {
   "cell_type": "code",
   "execution_count": 65,
   "id": "7b46b507",
   "metadata": {},
   "outputs": [
    {
     "data": {
      "text/plain": [
       "0"
      ]
     },
     "execution_count": 65,
     "metadata": {},
     "output_type": "execute_result"
    }
   ],
   "source": [
    "filename.seek(0)   #Using seek() we can set the cursor position , that I want to start from where.\n",
    "                   #This shows This will starts from 0th position."
   ]
  },
  {
   "cell_type": "code",
   "execution_count": 66,
   "id": "570a8854",
   "metadata": {},
   "outputs": [
    {
     "data": {
      "text/plain": [
       "'Hello there this is second text file . In this we are trying to write something'"
      ]
     },
     "execution_count": 66,
     "metadata": {},
     "output_type": "execute_result"
    }
   ],
   "source": [
    "filename.read()"
   ]
  },
  {
   "cell_type": "code",
   "execution_count": 67,
   "id": "9f7c86cc",
   "metadata": {},
   "outputs": [
    {
     "data": {
      "text/plain": [
       "9"
      ]
     },
     "execution_count": 67,
     "metadata": {},
     "output_type": "execute_result"
    }
   ],
   "source": [
    "filename.seek(9)"
   ]
  },
  {
   "cell_type": "code",
   "execution_count": 68,
   "id": "9c855165",
   "metadata": {},
   "outputs": [
    {
     "data": {
      "text/plain": [
       "'re this is second text file . In this we are trying to write something'"
      ]
     },
     "execution_count": 68,
     "metadata": {},
     "output_type": "execute_result"
    }
   ],
   "source": [
    "filename.read()  #This reads the charaters started from 9th index ."
   ]
  },
  {
   "cell_type": "code",
   "execution_count": 69,
   "id": "570f948b",
   "metadata": {},
   "outputs": [],
   "source": [
    "#Lets Open file with read mode.\n",
    "\n",
    "f=open('text2.txt','r')  #read mode is there so we won't be able to perform any operation other than read.\n",
    "                         #This helps kind of giving the neccessary permission to the user."
   ]
  },
  {
   "cell_type": "code",
   "execution_count": 70,
   "id": "91f8f6d8",
   "metadata": {},
   "outputs": [
    {
     "data": {
      "text/plain": [
       "<_io.TextIOWrapper name='text2.txt' mode='r' encoding='cp1252'>"
      ]
     },
     "execution_count": 70,
     "metadata": {},
     "output_type": "execute_result"
    }
   ],
   "source": [
    "f"
   ]
  },
  {
   "cell_type": "code",
   "execution_count": 71,
   "id": "3bf1565e",
   "metadata": {},
   "outputs": [
    {
     "data": {
      "text/plain": [
       "'Hello there this is second text file . In this we are trying to write something'"
      ]
     },
     "execution_count": 71,
     "metadata": {},
     "output_type": "execute_result"
    }
   ],
   "source": [
    "f.read()"
   ]
  },
  {
   "cell_type": "code",
   "execution_count": 72,
   "id": "4940366f",
   "metadata": {},
   "outputs": [
    {
     "data": {
      "text/plain": [
       "<_io.TextIOWrapper name='text2.txt' mode='r' encoding='cp1252'>"
      ]
     },
     "execution_count": 72,
     "metadata": {},
     "output_type": "execute_result"
    }
   ],
   "source": [
    "#Suppose we want our cursor to be at 7th position and from there we want to read 10 characters only then we can do that .\n",
    "f"
   ]
  },
  {
   "cell_type": "code",
   "execution_count": 73,
   "id": "a2a0a03d",
   "metadata": {},
   "outputs": [
    {
     "data": {
      "text/plain": [
       "7"
      ]
     },
     "execution_count": 73,
     "metadata": {},
     "output_type": "execute_result"
    }
   ],
   "source": [
    "f.seek(7)"
   ]
  },
  {
   "cell_type": "code",
   "execution_count": 74,
   "id": "e194babd",
   "metadata": {},
   "outputs": [
    {
     "data": {
      "text/plain": [
       "'here this '"
      ]
     },
     "execution_count": 74,
     "metadata": {},
     "output_type": "execute_result"
    }
   ],
   "source": [
    "f.read(10) #h index is 7th and whitespace index is 9th. (10-1 place)"
   ]
  },
  {
   "cell_type": "code",
   "execution_count": 75,
   "id": "d5892703",
   "metadata": {},
   "outputs": [],
   "source": [
    "#Suppose i want to append things to the same file then firstly i have to open it in append mode and after that.Will make \n",
    "# append the required txt to it.\n",
    "\n",
    "filename=open('text2.txt','a')"
   ]
  },
  {
   "cell_type": "code",
   "execution_count": 76,
   "id": "fdaafb5d",
   "metadata": {},
   "outputs": [
    {
     "data": {
      "text/plain": [
       "66"
      ]
     },
     "execution_count": 76,
     "metadata": {},
     "output_type": "execute_result"
    }
   ],
   "source": [
    "filename.write(\" .This statement we are appending in the existing file.Here we go.\")"
   ]
  },
  {
   "cell_type": "code",
   "execution_count": 77,
   "id": "5bdf4928",
   "metadata": {},
   "outputs": [],
   "source": [
    "#Now lets read it again after addition/append of some charaters.\n",
    "filename=open('text2.txt','r')"
   ]
  },
  {
   "cell_type": "code",
   "execution_count": 78,
   "id": "3b1823af",
   "metadata": {},
   "outputs": [
    {
     "data": {
      "text/plain": [
       "'Hello there this is second text file . In this we are trying to write something .This statement we are appending in the existing file.Here we go.'"
      ]
     },
     "execution_count": 78,
     "metadata": {},
     "output_type": "execute_result"
    }
   ],
   "source": [
    "filename.read()"
   ]
  },
  {
   "cell_type": "code",
   "execution_count": 79,
   "id": "4c319c1d",
   "metadata": {},
   "outputs": [],
   "source": [
    "filename.close()"
   ]
  },
  {
   "cell_type": "code",
   "execution_count": 80,
   "id": "a1a14aef",
   "metadata": {},
   "outputs": [],
   "source": [
    "#Meaning of writing binary data.\n",
    "\n",
    "f=open('text1.txt','wb')"
   ]
  },
  {
   "cell_type": "code",
   "execution_count": 81,
   "id": "80da12ae",
   "metadata": {},
   "outputs": [
    {
     "data": {
      "text/plain": [
       "114"
      ]
     },
     "execution_count": 81,
     "metadata": {},
     "output_type": "execute_result"
    }
   ],
   "source": [
    "f.write(b\"The written data is inserted using binary mode , just used 'wb' while opening file and b while inserting the text.\")"
   ]
  },
  {
   "cell_type": "code",
   "execution_count": 82,
   "id": "f761462f",
   "metadata": {},
   "outputs": [],
   "source": [
    "f=open('text1.txt','r')"
   ]
  },
  {
   "cell_type": "code",
   "execution_count": 83,
   "id": "495acc90",
   "metadata": {},
   "outputs": [
    {
     "data": {
      "text/plain": [
       "\"The written data is inserted using binary mode , just used 'wb' while opening file and b while inserting the text.\""
      ]
     },
     "execution_count": 83,
     "metadata": {},
     "output_type": "execute_result"
    }
   ],
   "source": [
    "f.read()"
   ]
  },
  {
   "cell_type": "code",
   "execution_count": 84,
   "id": "426c149b",
   "metadata": {},
   "outputs": [],
   "source": [
    "f.close()"
   ]
  },
  {
   "cell_type": "code",
   "execution_count": 85,
   "id": "38db6e96",
   "metadata": {},
   "outputs": [],
   "source": [
    "#Using readline operation:Lets make a new file in which we have different lines \n"
   ]
  },
  {
   "cell_type": "code",
   "execution_count": 86,
   "id": "d2603286",
   "metadata": {},
   "outputs": [],
   "source": [
    "culture = \"Indian culture is incredibly diverse and rich.\\nIt is known for its ancient heritage, traditions, and customs.\\nIndia is home to a multitude of religions, including Hinduism, Islam, Sikhism, Buddhism, and Jainism.\\nThe country celebrates a wide range of colorful festivals throughout the year, such as Diwali, Holi, Eid, Christmas, and Pongal.\\nIndian cuisine is renowned globally for its variety and flavors, with dishes like curry, biryani, dosa, and samosa being popular.\\nThe arts, including classical music, dance forms like Bharatanatyam and Kathak, and traditional crafts such as pottery, textiles, and embroidery, are integral parts of Indian culture.\"\n"
   ]
  },
  {
   "cell_type": "code",
   "execution_count": 87,
   "id": "6914e475",
   "metadata": {},
   "outputs": [],
   "source": [
    "india_file=open(\"India_culture_para.txt\",'w')"
   ]
  },
  {
   "cell_type": "code",
   "execution_count": 88,
   "id": "e89e935d",
   "metadata": {},
   "outputs": [
    {
     "data": {
      "text/plain": [
       "654"
      ]
     },
     "execution_count": 88,
     "metadata": {},
     "output_type": "execute_result"
    }
   ],
   "source": [
    "india_file.write(culture)"
   ]
  },
  {
   "cell_type": "code",
   "execution_count": 89,
   "id": "33669bcc",
   "metadata": {},
   "outputs": [
    {
     "data": {
      "text/plain": [
       "'Indian culture is incredibly diverse and rich.\\n'"
      ]
     },
     "execution_count": 89,
     "metadata": {},
     "output_type": "execute_result"
    }
   ],
   "source": [
    "#Lets read each line.\n",
    "india_file=open('India_culture_para.txt','r')\n",
    "india_file.readline()"
   ]
  },
  {
   "cell_type": "code",
   "execution_count": 90,
   "id": "3fa2c3d2",
   "metadata": {},
   "outputs": [
    {
     "data": {
      "text/plain": [
       "'It is known for its ancient heritage, traditions, and customs.\\n'"
      ]
     },
     "execution_count": 90,
     "metadata": {},
     "output_type": "execute_result"
    }
   ],
   "source": [
    "india_file.readline()"
   ]
  },
  {
   "cell_type": "code",
   "execution_count": 91,
   "id": "d28b6aa4",
   "metadata": {},
   "outputs": [
    {
     "data": {
      "text/plain": [
       "'India is home to a multitude of religions, including Hinduism, Islam, Sikhism, Buddhism, and Jainism.\\n'"
      ]
     },
     "execution_count": 91,
     "metadata": {},
     "output_type": "execute_result"
    }
   ],
   "source": [
    "india_file.readline()"
   ]
  },
  {
   "cell_type": "code",
   "execution_count": 92,
   "id": "533c0cae",
   "metadata": {},
   "outputs": [
    {
     "data": {
      "text/plain": [
       "'The country celebrates a wide range of colorful festivals throughout the year, such as Diwali, Holi, Eid, Christmas, and Pongal.\\n'"
      ]
     },
     "execution_count": 92,
     "metadata": {},
     "output_type": "execute_result"
    }
   ],
   "source": [
    "india_file.readline()"
   ]
  },
  {
   "cell_type": "code",
   "execution_count": 93,
   "id": "48570791",
   "metadata": {},
   "outputs": [
    {
     "data": {
      "text/plain": [
       "'Indian cuisine is renowned globally for its variety and flavors, with dishes like curry, biryani, dosa, and samosa being popular.\\n'"
      ]
     },
     "execution_count": 93,
     "metadata": {},
     "output_type": "execute_result"
    }
   ],
   "source": [
    "india_file.readline()"
   ]
  },
  {
   "cell_type": "code",
   "execution_count": 94,
   "id": "49cb4f82",
   "metadata": {},
   "outputs": [
    {
     "data": {
      "text/plain": [
       "'The arts, including classical music, dance forms like Bharatanatyam and Kathak, and traditional crafts such as pottery, textiles, and embroidery, are integral parts of Indian culture.'"
      ]
     },
     "execution_count": 94,
     "metadata": {},
     "output_type": "execute_result"
    }
   ],
   "source": [
    "india_file.readline()"
   ]
  },
  {
   "cell_type": "code",
   "execution_count": 95,
   "id": "61f87490",
   "metadata": {},
   "outputs": [
    {
     "data": {
      "text/plain": [
       "''"
      ]
     },
     "execution_count": 95,
     "metadata": {},
     "output_type": "execute_result"
    }
   ],
   "source": [
    "india_file.readline()"
   ]
  },
  {
   "cell_type": "code",
   "execution_count": 96,
   "id": "bb93e3a9",
   "metadata": {},
   "outputs": [],
   "source": [
    "#This shows readline reads line by line and stops to print one encounter \\n."
   ]
  },
  {
   "cell_type": "markdown",
   "id": "c34bc4e0",
   "metadata": {},
   "source": [
    "* The Strip() method in Python removes or truncates the given characters from the beginning and the end of the original string"
   ]
  },
  {
   "cell_type": "code",
   "execution_count": 97,
   "id": "0c8d2181",
   "metadata": {},
   "outputs": [],
   "source": [
    "a=\"      Hello this strip functions      \""
   ]
  },
  {
   "cell_type": "code",
   "execution_count": 98,
   "id": "91bc6888",
   "metadata": {},
   "outputs": [
    {
     "data": {
      "text/plain": [
       "'Hello this strip functions'"
      ]
     },
     "execution_count": 98,
     "metadata": {},
     "output_type": "execute_result"
    }
   ],
   "source": [
    "a.strip(' ')"
   ]
  },
  {
   "cell_type": "code",
   "execution_count": 99,
   "id": "d023a301",
   "metadata": {},
   "outputs": [],
   "source": [
    "string = \"The King has the largest army in the entire world.\""
   ]
  },
  {
   "cell_type": "code",
   "execution_count": 100,
   "id": "7854a2f6",
   "metadata": {},
   "outputs": [
    {
     "name": "stdout",
     "output_type": "stream",
     "text": [
      "the largest army in the entire world.\n"
     ]
    }
   ],
   "source": [
    "print(string.strip('The King has'))"
   ]
  },
  {
   "cell_type": "code",
   "execution_count": 101,
   "id": "7b13492f",
   "metadata": {},
   "outputs": [
    {
     "name": "stdout",
     "output_type": "stream",
     "text": [
      "The King has the largest army\n"
     ]
    }
   ],
   "source": [
    "print(string.strip('in the entire world.'))"
   ]
  },
  {
   "cell_type": "code",
   "execution_count": 102,
   "id": "8f05525f",
   "metadata": {},
   "outputs": [],
   "source": [
    "i=\"Indian culture is incredibly diverse and rich.\\nIt is known for its ancient heritage, traditions, and customs.\\n\""
   ]
  },
  {
   "cell_type": "code",
   "execution_count": 103,
   "id": "84c520f3",
   "metadata": {},
   "outputs": [
    {
     "name": "stdout",
     "output_type": "stream",
     "text": [
      "Indian culture is incredibly diverse and rich.\n",
      "It is known for its ancient heritage, traditions, and customs.\n"
     ]
    }
   ],
   "source": [
    "if '\\n' in i:\n",
    "    print(i.strip())"
   ]
  },
  {
   "cell_type": "code",
   "execution_count": 104,
   "id": "31346afb",
   "metadata": {},
   "outputs": [
    {
     "name": "stdout",
     "output_type": "stream",
     "text": [
      "Indian culture is incredibly diverse and rich.\n",
      "It is known for its ancient heritage, traditions, and customs.\n",
      "India is home to a multitude of religions, including Hinduism, Islam, Sikhism, Buddhism, and Jainism.\n",
      "The country celebrates a wide range of colorful festivals throughout the year, such as Diwali, Holi, Eid, Christmas, and Pongal.\n",
      "Indian cuisine is renowned globally for its variety and flavors, with dishes like curry, biryani, dosa, and samosa being popular.\n"
     ]
    }
   ],
   "source": [
    "india_file = open('India_culture_para.txt', 'r')\n",
    "\n",
    "for line in india_file:\n",
    "    if '\\n' in line:\n",
    "        print(line.strip())\n"
   ]
  },
  {
   "cell_type": "markdown",
   "id": "09038957",
   "metadata": {},
   "source": [
    "**Creating and empty text file and then using single mode for read and write in that created txt file .use 'r+'**"
   ]
  },
  {
   "cell_type": "code",
   "execution_count": 105,
   "id": "ed16edc3",
   "metadata": {},
   "outputs": [],
   "source": [
    "file_1=open(\"hello.txt\",'wb')  #Creating a blank txt file."
   ]
  },
  {
   "cell_type": "code",
   "execution_count": 106,
   "id": "6b5a0354",
   "metadata": {},
   "outputs": [],
   "source": [
    "file_1=open(\"hello.txt\",'r+')"
   ]
  },
  {
   "cell_type": "code",
   "execution_count": 107,
   "id": "a7c365f6",
   "metadata": {},
   "outputs": [
    {
     "data": {
      "text/plain": [
       "73"
      ]
     },
     "execution_count": 107,
     "metadata": {},
     "output_type": "execute_result"
    }
   ],
   "source": [
    "file_1.write(\"Hello this is creation of file and writing in it using single mode ie. r+\")"
   ]
  },
  {
   "cell_type": "code",
   "execution_count": 108,
   "id": "b47dc0dc",
   "metadata": {},
   "outputs": [
    {
     "data": {
      "text/plain": [
       "'Hello this is creation of file and writing in it using single mode ie. r+'"
      ]
     },
     "execution_count": 108,
     "metadata": {},
     "output_type": "execute_result"
    }
   ],
   "source": [
    "file_1.seek(0)    #To ensure that this will read everthing from starting\n",
    "file_1.read()"
   ]
  },
  {
   "cell_type": "code",
   "execution_count": 109,
   "id": "7440970f",
   "metadata": {},
   "outputs": [],
   "source": [
    "file_1.close()"
   ]
  },
  {
   "cell_type": "markdown",
   "id": "f0204f14",
   "metadata": {},
   "source": [
    "---------------------------------------------------------------------------------------------------------------------------\n",
    "\n",
    "**Appending few more charcaters inside an existing file, text2.txt file , using single mode as a+ which is used to append the written and read**"
   ]
  },
  {
   "cell_type": "code",
   "execution_count": 110,
   "id": "fe6d00f7",
   "metadata": {},
   "outputs": [],
   "source": [
    "f=open(\"text2.txt\",'r')"
   ]
  },
  {
   "cell_type": "code",
   "execution_count": 111,
   "id": "f2bbcc89",
   "metadata": {},
   "outputs": [
    {
     "data": {
      "text/plain": [
       "'Hello there this is second text file . In this we are trying to write something .This statement we are appending in the existing file.Here we go.'"
      ]
     },
     "execution_count": 111,
     "metadata": {},
     "output_type": "execute_result"
    }
   ],
   "source": [
    "f.read()"
   ]
  },
  {
   "cell_type": "code",
   "execution_count": 112,
   "id": "ab851407",
   "metadata": {},
   "outputs": [],
   "source": [
    "#If we want to add few lines to existing file in which we can append and read both at  once then use ' a+ '."
   ]
  },
  {
   "cell_type": "code",
   "execution_count": 113,
   "id": "50eeeb33",
   "metadata": {},
   "outputs": [],
   "source": [
    "f=open(\"text2.txt\",'a+')"
   ]
  },
  {
   "cell_type": "code",
   "execution_count": 114,
   "id": "c5d8c5f2",
   "metadata": {},
   "outputs": [
    {
     "data": {
      "text/plain": [
       "111"
      ]
     },
     "execution_count": 114,
     "metadata": {},
     "output_type": "execute_result"
    }
   ],
   "source": [
    "f.write(\" This peice of statment is written using mode as a+ , in which we can read as well as write the things in file.\")"
   ]
  },
  {
   "cell_type": "code",
   "execution_count": 115,
   "id": "df1a33a1",
   "metadata": {},
   "outputs": [
    {
     "data": {
      "text/plain": [
       "'Hello there this is second text file . In this we are trying to write something .This statement we are appending in the existing file.Here we go. This peice of statment is written using mode as a+ , in which we can read as well as write the things in file.'"
      ]
     },
     "execution_count": 115,
     "metadata": {},
     "output_type": "execute_result"
    }
   ],
   "source": [
    "f.seek(0)  #To ensure that this will read everthing from starting.\n",
    "f.read()"
   ]
  },
  {
   "cell_type": "code",
   "execution_count": 116,
   "id": "ff119256",
   "metadata": {},
   "outputs": [],
   "source": [
    "f.close()"
   ]
  },
  {
   "cell_type": "markdown",
   "id": "996c185a",
   "metadata": {},
   "source": [
    "---------------------------------------------------------------------------------------------------------------------------"
   ]
  },
  {
   "cell_type": "markdown",
   "id": "1d3e9619",
   "metadata": {},
   "source": [
    "**Writes sequence of lines at the end of the file.**"
   ]
  },
  {
   "cell_type": "code",
   "execution_count": 117,
   "id": "ca6d26f8",
   "metadata": {},
   "outputs": [],
   "source": [
    "f=open('hello.txt','r+')"
   ]
  },
  {
   "cell_type": "code",
   "execution_count": 118,
   "id": "ce046c50",
   "metadata": {},
   "outputs": [
    {
     "data": {
      "text/plain": [
       "'Hello this is creation of file and writing in it using single mode ie. r+'"
      ]
     },
     "execution_count": 118,
     "metadata": {},
     "output_type": "execute_result"
    }
   ],
   "source": [
    "f.read()"
   ]
  },
  {
   "cell_type": "code",
   "execution_count": 119,
   "id": "56542ee3",
   "metadata": {},
   "outputs": [],
   "source": [
    "f.writelines('hehehehehee HHHHHHHH  EEEEEEEE   LLLLLLLLL LLLLLLL OOOOOOOOOO')"
   ]
  },
  {
   "cell_type": "code",
   "execution_count": 120,
   "id": "64e8f155",
   "metadata": {},
   "outputs": [
    {
     "data": {
      "text/plain": [
       "'Hello this is creation of file and writing in it using single mode ie. r+hehehehehee HHHHHHHH  EEEEEEEE   LLLLLLLLL LLLLLLL OOOOOOOOOO'"
      ]
     },
     "execution_count": 120,
     "metadata": {},
     "output_type": "execute_result"
    }
   ],
   "source": [
    "f.seek(0)\n",
    "f.read()"
   ]
  },
  {
   "cell_type": "markdown",
   "id": "e834f1c2",
   "metadata": {},
   "source": [
    "Likewise so many commands are there in this.This File handling is something that we are not going to use frequently,\n",
    "We will use pandas library for doing most of our stuffs like handling file or data manipulations."
   ]
  },
  {
   "cell_type": "markdown",
   "id": "50e82e9d",
   "metadata": {},
   "source": [
    "---------------------------------------------------------------------------------------------------------------------------"
   ]
  },
  {
   "cell_type": "markdown",
   "id": "bf1aa20b",
   "metadata": {},
   "source": [
    "✨✨✨✨✨✨✨✨✨✨✨✨✨✨✨✨✨✨✨✨✨✨✨✨✨✨✨✨✨✨✨✨✨✨✨✨✨✨✨✨✨✨✨✨✨✨✨✨"
   ]
  },
  {
   "cell_type": "markdown",
   "id": "4cfb8d4f",
   "metadata": {},
   "source": [
    "### Basic of Operating System"
   ]
  },
  {
   "cell_type": "code",
   "execution_count": 121,
   "id": "f9108c27",
   "metadata": {},
   "outputs": [],
   "source": [
    "import os   #module operating system os."
   ]
  },
  {
   "cell_type": "code",
   "execution_count": 122,
   "id": "0d889faa",
   "metadata": {},
   "outputs": [
    {
     "data": {
      "text/plain": [
       "'C:\\\\Users\\\\Admin\\\\Desktop\\\\ineuron\\\\FSDS ineuron\\\\01.PYTHON\\\\Code'"
      ]
     },
     "execution_count": 122,
     "metadata": {},
     "output_type": "execute_result"
    }
   ],
   "source": [
    "#To check the directory location of the any file lets say jupyter notebook here. then --\n",
    "# first do it %pwd or call pwd() : It stands for present working directory.\n",
    "%pwd"
   ]
  },
  {
   "cell_type": "code",
   "execution_count": 123,
   "id": "40317839",
   "metadata": {},
   "outputs": [
    {
     "data": {
      "text/plain": [
       "'C:\\\\Users\\\\Admin\\\\Desktop\\\\ineuron\\\\FSDS ineuron\\\\01.PYTHON\\\\Code'"
      ]
     },
     "execution_count": 123,
     "metadata": {},
     "output_type": "execute_result"
    }
   ],
   "source": [
    "pwd()      #Present working directory of this notebook."
   ]
  },
  {
   "cell_type": "code",
   "execution_count": 124,
   "id": "0509b6cd",
   "metadata": {},
   "outputs": [
    {
     "data": {
      "text/plain": [
       "'C:\\\\Users\\\\Admin\\\\Desktop\\\\ineuron\\\\FSDS ineuron\\\\01.PYTHON\\\\Code'"
      ]
     },
     "execution_count": 124,
     "metadata": {},
     "output_type": "execute_result"
    }
   ],
   "source": [
    "os.getcwd()  #Same as pwd()"
   ]
  },
  {
   "cell_type": "code",
   "execution_count": 125,
   "id": "e3aea6b6",
   "metadata": {},
   "outputs": [
    {
     "data": {
      "text/plain": [
       "['.ipynb_checkpoints',\n",
       " '01. Python Introduction , Installation and Setup.ipynb',\n",
       " '02.Python Basic and Conditionals.ipynb',\n",
       " '03. Conditional Loops.ipynb',\n",
       " '04.Working with Loops.ipynb',\n",
       " '05.Working with Strings Lists.ipynb',\n",
       " '06.List manipulation.ipynb',\n",
       " '07.Tuple,Set and Dictionary.ipynb',\n",
       " '08.Working with Functions.ipynb',\n",
       " '09.Functions,Generators and File Handling.ipynb',\n",
       " 'hello.txt',\n",
       " 'India_culture_para.txt',\n",
       " 'text1.txt',\n",
       " 'text2.txt']"
      ]
     },
     "execution_count": 125,
     "metadata": {},
     "output_type": "execute_result"
    }
   ],
   "source": [
    "#List of all the elements/files present in the current directory.\n",
    "\n",
    "os.listdir()"
   ]
  },
  {
   "cell_type": "code",
   "execution_count": 126,
   "id": "e2634fbb",
   "metadata": {},
   "outputs": [
    {
     "data": {
      "text/plain": [
       "['.ipynb_checkpoints',\n",
       " '01. Python Introduction , Installation and Setup.ipynb',\n",
       " '02.Python Basic and Conditionals.ipynb',\n",
       " '03. Conditional Loops.ipynb',\n",
       " '04.Working with Loops.ipynb',\n",
       " '05.Working with Strings Lists.ipynb',\n",
       " '06.List manipulation.ipynb',\n",
       " '07.Tuple,Set and Dictionary.ipynb',\n",
       " '08.Working with Functions.ipynb',\n",
       " '09.Functions,Generators and File Handling.ipynb',\n",
       " 'hello.txt',\n",
       " 'India_culture_para.txt',\n",
       " 'text1.txt',\n",
       " 'text2.txt']"
      ]
     },
     "execution_count": 126,
     "metadata": {},
     "output_type": "execute_result"
    }
   ],
   "source": [
    "os.listdir(\"C:\\\\Users\\\\Admin\\\\Desktop\\\\ineuron\\\\FSDS ineuron\\\\01.PYTHON\\\\Code\")  #or we can do this too."
   ]
  },
  {
   "cell_type": "code",
   "execution_count": 127,
   "id": "b5e50b1f",
   "metadata": {},
   "outputs": [
    {
     "data": {
      "text/plain": [
       "['.ipynb_checkpoints',\n",
       " 'FSDS ineuron',\n",
       " 'Full stack data science masters (Live)',\n",
       " 'Resource Provided By Mentors']"
      ]
     },
     "execution_count": 127,
     "metadata": {},
     "output_type": "execute_result"
    }
   ],
   "source": [
    "os.listdir(\"C:\\\\Users\\\\Admin\\\\Desktop\\\\ineuron\")  #or we can do this too."
   ]
  },
  {
   "cell_type": "code",
   "execution_count": 128,
   "id": "8f013481",
   "metadata": {},
   "outputs": [],
   "source": [
    "# Window user : Always use double forward \\\\ or single backward / slash while dealing with any file location."
   ]
  },
  {
   "cell_type": "code",
   "execution_count": 129,
   "id": "784d4047",
   "metadata": {},
   "outputs": [],
   "source": [
    "#Suppose we want to change the working directory from other path to some other path.\n",
    "#Docstring:\n",
    "#Change the current working directory to the specified path.\n",
    "\n",
    "os.chdir(\"E:\\\\\")"
   ]
  },
  {
   "cell_type": "code",
   "execution_count": 130,
   "id": "c0a2bab1",
   "metadata": {},
   "outputs": [],
   "source": [
    "#Question:Check do we have directory with specific name if yes make txt file and read data from it \n",
    "#else if not make a directory with new name and then read it."
   ]
  },
  {
   "cell_type": "code",
   "execution_count": 131,
   "id": "4e38968e",
   "metadata": {},
   "outputs": [
    {
     "data": {
      "text/plain": [
       "'E:\\\\'"
      ]
     },
     "execution_count": 131,
     "metadata": {},
     "output_type": "execute_result"
    }
   ],
   "source": [
    "pwd()"
   ]
  },
  {
   "cell_type": "code",
   "execution_count": 132,
   "id": "dc5162fb",
   "metadata": {},
   "outputs": [],
   "source": [
    "os.chdir('C:\\\\Users\\\\Admin\\\\Desktop\\\\ineuron\\\\FSDS ineuron\\\\01.PYTHON\\\\Code')   #Got back to previous directory."
   ]
  },
  {
   "cell_type": "code",
   "execution_count": 133,
   "id": "7399b10a",
   "metadata": {},
   "outputs": [
    {
     "data": {
      "text/plain": [
       "'C:\\\\Users\\\\Admin\\\\Desktop\\\\ineuron\\\\FSDS ineuron\\\\01.PYTHON\\\\Code'"
      ]
     },
     "execution_count": 133,
     "metadata": {},
     "output_type": "execute_result"
    }
   ],
   "source": [
    "pwd()"
   ]
  },
  {
   "cell_type": "code",
   "execution_count": 134,
   "id": "2b3a8137",
   "metadata": {},
   "outputs": [],
   "source": [
    "#Suppose in the same dir we want to create or make one new directory then... we use mkdir : stands for make directory.\n",
    "\n",
    "os.mkdir(\"09.This_is_new_directory_for_OS\")"
   ]
  },
  {
   "cell_type": "code",
   "execution_count": 135,
   "id": "41798ed8",
   "metadata": {},
   "outputs": [
    {
     "data": {
      "text/plain": [
       "'C:\\\\Users\\\\Admin\\\\Desktop\\\\ineuron\\\\FSDS ineuron\\\\01.PYTHON\\\\Code'"
      ]
     },
     "execution_count": 135,
     "metadata": {},
     "output_type": "execute_result"
    }
   ],
   "source": [
    "pwd()"
   ]
  },
  {
   "cell_type": "code",
   "execution_count": 136,
   "id": "1cb3a21c",
   "metadata": {},
   "outputs": [
    {
     "data": {
      "text/plain": [
       "['.ipynb_checkpoints',\n",
       " '01. Python Introduction , Installation and Setup.ipynb',\n",
       " '02.Python Basic and Conditionals.ipynb',\n",
       " '03. Conditional Loops.ipynb',\n",
       " '04.Working with Loops.ipynb',\n",
       " '05.Working with Strings Lists.ipynb',\n",
       " '06.List manipulation.ipynb',\n",
       " '07.Tuple,Set and Dictionary.ipynb',\n",
       " '08.Working with Functions.ipynb',\n",
       " '09.Functions,Generators and File Handling.ipynb',\n",
       " '09.This_is_new_directory_for_OS',\n",
       " 'hello.txt',\n",
       " 'India_culture_para.txt',\n",
       " 'text1.txt',\n",
       " 'text2.txt']"
      ]
     },
     "execution_count": 136,
     "metadata": {},
     "output_type": "execute_result"
    }
   ],
   "source": [
    "os.listdir()   #We can see at this present directory 'C:\\\\Users\\\\Admin\\\\Desktop\\\\ineuron' new file got created using mkdir"
   ]
  },
  {
   "cell_type": "code",
   "execution_count": 137,
   "id": "a02cca4f",
   "metadata": {},
   "outputs": [
    {
     "data": {
      "text/plain": [
       "'C:\\\\Users\\\\Admin\\\\Desktop\\\\ineuron\\\\FSDS ineuron\\\\01.PYTHON\\\\Code'"
      ]
     },
     "execution_count": 137,
     "metadata": {},
     "output_type": "execute_result"
    }
   ],
   "source": [
    "pwd()"
   ]
  },
  {
   "cell_type": "code",
   "execution_count": 138,
   "id": "36755bd1",
   "metadata": {},
   "outputs": [
    {
     "data": {
      "text/plain": [
       "['.ipynb_checkpoints',\n",
       " '01. Python Introduction , Installation and Setup.ipynb',\n",
       " '02.Python Basic and Conditionals.ipynb',\n",
       " '03. Conditional Loops.ipynb',\n",
       " '04.Working with Loops.ipynb',\n",
       " '05.Working with Strings Lists.ipynb',\n",
       " '06.List manipulation.ipynb',\n",
       " '07.Tuple,Set and Dictionary.ipynb',\n",
       " '08.Working with Functions.ipynb',\n",
       " '09.Functions,Generators and File Handling.ipynb',\n",
       " '09.This_is_new_directory_for_OS',\n",
       " 'hello.txt',\n",
       " 'India_culture_para.txt',\n",
       " 'text1.txt',\n",
       " 'text2.txt']"
      ]
     },
     "execution_count": 138,
     "metadata": {},
     "output_type": "execute_result"
    }
   ],
   "source": [
    "os.listdir()  #HEre we have a new direcoty or folder '09.This_is_new_directory_for_OS'.So lets go into this folder or dir."
   ]
  },
  {
   "cell_type": "code",
   "execution_count": 139,
   "id": "75409f88",
   "metadata": {},
   "outputs": [],
   "source": [
    "os.chdir('C:\\\\Users\\\\Admin\\\\Desktop\\\\ineuron\\\\FSDS ineuron\\\\01.PYTHON\\\\Code\\\\09.This_is_new_directory_for_OS')"
   ]
  },
  {
   "cell_type": "code",
   "execution_count": 140,
   "id": "5e4b352d",
   "metadata": {},
   "outputs": [
    {
     "data": {
      "text/plain": [
       "'C:\\\\Users\\\\Admin\\\\Desktop\\\\ineuron\\\\FSDS ineuron\\\\01.PYTHON\\\\Code\\\\09.This_is_new_directory_for_OS'"
      ]
     },
     "execution_count": 140,
     "metadata": {},
     "output_type": "execute_result"
    }
   ],
   "source": [
    "pwd()"
   ]
  },
  {
   "cell_type": "code",
   "execution_count": 141,
   "id": "48e8c181",
   "metadata": {},
   "outputs": [
    {
     "name": "stdout",
     "output_type": "stream",
     "text": [
      "No file is not available in my currect dir.\n",
      "<_io.BufferedWriter name='new_text.txt'>\n",
      "File created successfully! Now you can open it.\n"
     ]
    }
   ],
   "source": [
    "if 'new_text.txt' in os.listdir():\n",
    "    print(\"My file is available in this dir\")\n",
    "else:\n",
    "    print(\"No file is not available in my currect dir.\")\n",
    "    #Lets create txt file using 'wb' and open it.\n",
    "    file=open('new_text.txt','wb')\n",
    "    print(file)\n",
    "    print(\"File created successfully! Now you can open it.\")\n",
    "    \n",
    "        "
   ]
  },
  {
   "cell_type": "code",
   "execution_count": 142,
   "id": "a546f57b",
   "metadata": {},
   "outputs": [],
   "source": [
    "file.close()"
   ]
  },
  {
   "cell_type": "code",
   "execution_count": 143,
   "id": "371b7a31",
   "metadata": {},
   "outputs": [],
   "source": [
    "#As if there is file (already exisiting file then open it)"
   ]
  },
  {
   "cell_type": "code",
   "execution_count": 144,
   "id": "c8d13cfe",
   "metadata": {},
   "outputs": [
    {
     "name": "stdout",
     "output_type": "stream",
     "text": [
      "My file is available in this dir\n",
      "<_io.TextIOWrapper name='new_text.txt' mode='r+' encoding='cp1252'>\n"
     ]
    }
   ],
   "source": [
    "if \"new_text.txt\" in os.listdir():\n",
    "    print(\"My file is available in this dir\")\n",
    "    f=open(\"new_text.txt\",'r+')\n",
    "    f.read()\n",
    "    print(f)\n",
    "    f.close()\n",
    "\n",
    "else:\n",
    "    print(\"No file is not available in my currect dir.\")"
   ]
  },
  {
   "cell_type": "code",
   "execution_count": 145,
   "id": "afd013f6",
   "metadata": {},
   "outputs": [],
   "source": [
    "#Question:Check do we have directory with specific name if yes else if not make a directory with new name ."
   ]
  },
  {
   "cell_type": "code",
   "execution_count": 146,
   "id": "b775e515",
   "metadata": {},
   "outputs": [],
   "source": [
    "#This won't show no more error as this dir is already there therfore it won't create it.\n",
    "if not os.path.isdir(\"09.This_is_new_directory_for_OS\"):\n",
    "    os.mkdir(\"New_directory_created\")"
   ]
  },
  {
   "cell_type": "code",
   "execution_count": 147,
   "id": "7be3b30c",
   "metadata": {},
   "outputs": [],
   "source": [
    "#Renaming the file."
   ]
  },
  {
   "cell_type": "code",
   "execution_count": 148,
   "id": "714ce1f7",
   "metadata": {},
   "outputs": [],
   "source": [
    "f=open('new_text.txt','r+')\n",
    "f.close()"
   ]
  },
  {
   "cell_type": "code",
   "execution_count": 149,
   "id": "1ad2e40e",
   "metadata": {},
   "outputs": [],
   "source": [
    "os.rename('new_text.txt','name_updated.txt')"
   ]
  },
  {
   "cell_type": "code",
   "execution_count": 150,
   "id": "4e5a1228",
   "metadata": {},
   "outputs": [
    {
     "data": {
      "text/plain": [
       "'C:\\\\Users\\\\Admin\\\\Desktop\\\\ineuron\\\\FSDS ineuron\\\\01.PYTHON\\\\Code\\\\09.This_is_new_directory_for_OS'"
      ]
     },
     "execution_count": 150,
     "metadata": {},
     "output_type": "execute_result"
    }
   ],
   "source": [
    "pwd()"
   ]
  },
  {
   "cell_type": "code",
   "execution_count": 151,
   "id": "4240550c",
   "metadata": {},
   "outputs": [
    {
     "data": {
      "text/plain": [
       "['name_updated.txt', 'New_directory_created']"
      ]
     },
     "execution_count": 151,
     "metadata": {},
     "output_type": "execute_result"
    }
   ],
   "source": [
    "os.listdir()"
   ]
  },
  {
   "cell_type": "code",
   "execution_count": 152,
   "id": "e5b845c6",
   "metadata": {},
   "outputs": [],
   "source": [
    "#Move a file from one file to another file: for that we have to import shutil.First mentioned location to another mentioned\n",
    "#location.\n",
    "#Not doing here , coz some files are open ."
   ]
  },
  {
   "cell_type": "markdown",
   "id": "61899541",
   "metadata": {},
   "source": [
    "### Problem:"
   ]
  },
  {
   "cell_type": "raw",
   "id": "f7007399",
   "metadata": {},
   "source": [
    "Q1. Create a new directory.\n",
    "Q2. Now in exisiting directory, Create 10 txt file and write same data or same string in all txt at a time.\n",
    "Q3. Read all the data from this dir/file and print in console.\n",
    "Q4. Hold all the data in a list.\n",
    "Q5. Write all the data in a new file from list."
   ]
  },
  {
   "cell_type": "markdown",
   "id": "67835c59",
   "metadata": {},
   "source": [
    "**Soltuion**"
   ]
  },
  {
   "cell_type": "code",
   "execution_count": 153,
   "id": "a5762b32",
   "metadata": {},
   "outputs": [],
   "source": [
    "#Lets check the present working directory address."
   ]
  },
  {
   "cell_type": "code",
   "execution_count": 154,
   "id": "f18a94e1",
   "metadata": {},
   "outputs": [
    {
     "data": {
      "text/plain": [
       "'C:\\\\Users\\\\Admin\\\\Desktop\\\\ineuron\\\\FSDS ineuron\\\\01.PYTHON\\\\Code\\\\09.This_is_new_directory_for_OS'"
      ]
     },
     "execution_count": 154,
     "metadata": {},
     "output_type": "execute_result"
    }
   ],
   "source": [
    "pwd()"
   ]
  },
  {
   "cell_type": "code",
   "execution_count": 155,
   "id": "505b44f6",
   "metadata": {},
   "outputs": [
    {
     "data": {
      "text/plain": [
       "['name_updated.txt', 'New_directory_created']"
      ]
     },
     "execution_count": 155,
     "metadata": {},
     "output_type": "execute_result"
    }
   ],
   "source": [
    "#Lets check all file present inside this directory.\n",
    "os.listdir()"
   ]
  },
  {
   "cell_type": "code",
   "execution_count": 156,
   "id": "e01891fc",
   "metadata": {},
   "outputs": [],
   "source": [
    "#Ans1: Lets creating a new directory inside this exsisting one.\n",
    "\n",
    "os.mkdir(\"Task_dir_given_by_sir\")"
   ]
  },
  {
   "cell_type": "code",
   "execution_count": 157,
   "id": "723048f2",
   "metadata": {},
   "outputs": [
    {
     "data": {
      "text/plain": [
       "['name_updated.txt', 'New_directory_created', 'Task_dir_given_by_sir']"
      ]
     },
     "execution_count": 157,
     "metadata": {},
     "output_type": "execute_result"
    }
   ],
   "source": [
    "os.listdir()   #New directory got created."
   ]
  },
  {
   "cell_type": "code",
   "execution_count": 158,
   "id": "45e98125",
   "metadata": {},
   "outputs": [],
   "source": [
    "#Ans2: \n",
    "#Changing to new path that is: or os.chdir(os.getcwd()+\"\\\\Tak_dir_given_by_sir\")  This is more efficient way.\n",
    "\n",
    "os.chdir(\"C:\\\\Users\\\\Admin\\\\Desktop\\\\ineuron\\\\FSDS ineuron\\\\01.PYTHON\\\\Code\\\\09.This_is_new_directory_for_OS\\\\Task_dir_given_by_sir\")\n",
    "    "
   ]
  },
  {
   "cell_type": "code",
   "execution_count": 159,
   "id": "2de93871",
   "metadata": {},
   "outputs": [
    {
     "name": "stdout",
     "output_type": "stream",
     "text": [
      "<_io.TextIOWrapper name='Company_Data1.txt' mode='w' encoding='cp1252'>\n",
      "File created successfully! Now you can open it.\n",
      "<_io.TextIOWrapper name='Company_Data2.txt' mode='w' encoding='cp1252'>\n",
      "File created successfully! Now you can open it.\n",
      "<_io.TextIOWrapper name='Company_Data3.txt' mode='w' encoding='cp1252'>\n",
      "File created successfully! Now you can open it.\n",
      "<_io.TextIOWrapper name='Company_Data4.txt' mode='w' encoding='cp1252'>\n",
      "File created successfully! Now you can open it.\n",
      "<_io.TextIOWrapper name='Company_Data5.txt' mode='w' encoding='cp1252'>\n",
      "File created successfully! Now you can open it.\n",
      "<_io.TextIOWrapper name='Company_Data6.txt' mode='w' encoding='cp1252'>\n",
      "File created successfully! Now you can open it.\n",
      "<_io.TextIOWrapper name='Company_Data7.txt' mode='w' encoding='cp1252'>\n",
      "File created successfully! Now you can open it.\n",
      "<_io.TextIOWrapper name='Company_Data8.txt' mode='w' encoding='cp1252'>\n",
      "File created successfully! Now you can open it.\n",
      "<_io.TextIOWrapper name='Company_Data9.txt' mode='w' encoding='cp1252'>\n",
      "File created successfully! Now you can open it.\n",
      "<_io.TextIOWrapper name='Company_Data10.txt' mode='w' encoding='cp1252'>\n",
      "File created successfully! Now you can open it.\n",
      "<_io.TextIOWrapper name='Company_Data11.txt' mode='w' encoding='cp1252'>\n",
      "File created successfully! Now you can open it.\n",
      "<_io.TextIOWrapper name='Company_Data12.txt' mode='w' encoding='cp1252'>\n",
      "File created successfully! Now you can open it.\n",
      "<_io.TextIOWrapper name='Company_Data13.txt' mode='w' encoding='cp1252'>\n",
      "File created successfully! Now you can open it.\n",
      "<_io.TextIOWrapper name='Company_Data14.txt' mode='w' encoding='cp1252'>\n",
      "File created successfully! Now you can open it.\n",
      "<_io.TextIOWrapper name='Company_Data15.txt' mode='w' encoding='cp1252'>\n",
      "File created successfully! Now you can open it.\n",
      "<_io.TextIOWrapper name='Company_Data16.txt' mode='w' encoding='cp1252'>\n",
      "File created successfully! Now you can open it.\n",
      "<_io.TextIOWrapper name='Company_Data17.txt' mode='w' encoding='cp1252'>\n",
      "File created successfully! Now you can open it.\n",
      "<_io.TextIOWrapper name='Company_Data18.txt' mode='w' encoding='cp1252'>\n",
      "File created successfully! Now you can open it.\n",
      "<_io.TextIOWrapper name='Company_Data19.txt' mode='w' encoding='cp1252'>\n",
      "File created successfully! Now you can open it.\n"
     ]
    }
   ],
   "source": [
    "for i in range(1,20):  #Suppose 10 year data is there.\n",
    "    file_name=\"Company_Data\"+str(i)+\".txt\"\n",
    "    \n",
    "    f= open(file_name,'w')\n",
    "    \n",
    "    f.write(\"Hello There ! Company welcomes you.Have a great day ahead.\")\n",
    "    print(f)\n",
    "    print(\"File created successfully! Now you can open it.\")"
   ]
  },
  {
   "cell_type": "code",
   "execution_count": 160,
   "id": "dd4f53d6",
   "metadata": {},
   "outputs": [
    {
     "data": {
      "text/plain": [
       "['Company_Data1.txt',\n",
       " 'Company_Data10.txt',\n",
       " 'Company_Data11.txt',\n",
       " 'Company_Data12.txt',\n",
       " 'Company_Data13.txt',\n",
       " 'Company_Data14.txt',\n",
       " 'Company_Data15.txt',\n",
       " 'Company_Data16.txt',\n",
       " 'Company_Data17.txt',\n",
       " 'Company_Data18.txt',\n",
       " 'Company_Data19.txt',\n",
       " 'Company_Data2.txt',\n",
       " 'Company_Data3.txt',\n",
       " 'Company_Data4.txt',\n",
       " 'Company_Data5.txt',\n",
       " 'Company_Data6.txt',\n",
       " 'Company_Data7.txt',\n",
       " 'Company_Data8.txt',\n",
       " 'Company_Data9.txt']"
      ]
     },
     "execution_count": 160,
     "metadata": {},
     "output_type": "execute_result"
    }
   ],
   "source": [
    "files=os.listdir()\n",
    "files"
   ]
  },
  {
   "cell_type": "code",
   "execution_count": 161,
   "id": "e47744a9",
   "metadata": {},
   "outputs": [
    {
     "name": "stdout",
     "output_type": "stream",
     "text": [
      "Filename : Company_Data1.txt ----> Data is: Hello There ! Company welcomes you.Have a great day ahead.\n",
      "Filename : Company_Data10.txt ----> Data is: Hello There ! Company welcomes you.Have a great day ahead.\n",
      "Filename : Company_Data11.txt ----> Data is: Hello There ! Company welcomes you.Have a great day ahead.\n",
      "Filename : Company_Data12.txt ----> Data is: Hello There ! Company welcomes you.Have a great day ahead.\n",
      "Filename : Company_Data13.txt ----> Data is: Hello There ! Company welcomes you.Have a great day ahead.\n",
      "Filename : Company_Data14.txt ----> Data is: Hello There ! Company welcomes you.Have a great day ahead.\n",
      "Filename : Company_Data15.txt ----> Data is: Hello There ! Company welcomes you.Have a great day ahead.\n",
      "Filename : Company_Data16.txt ----> Data is: Hello There ! Company welcomes you.Have a great day ahead.\n",
      "Filename : Company_Data17.txt ----> Data is: Hello There ! Company welcomes you.Have a great day ahead.\n",
      "Filename : Company_Data18.txt ----> Data is: Hello There ! Company welcomes you.Have a great day ahead.\n",
      "Filename : Company_Data19.txt ----> Data is: Hello There ! Company welcomes you.Have a great day ahead.\n",
      "Filename : Company_Data2.txt ----> Data is: Hello There ! Company welcomes you.Have a great day ahead.\n",
      "Filename : Company_Data3.txt ----> Data is: Hello There ! Company welcomes you.Have a great day ahead.\n",
      "Filename : Company_Data4.txt ----> Data is: Hello There ! Company welcomes you.Have a great day ahead.\n",
      "Filename : Company_Data5.txt ----> Data is: Hello There ! Company welcomes you.Have a great day ahead.\n",
      "Filename : Company_Data6.txt ----> Data is: Hello There ! Company welcomes you.Have a great day ahead.\n",
      "Filename : Company_Data7.txt ----> Data is: Hello There ! Company welcomes you.Have a great day ahead.\n",
      "Filename : Company_Data8.txt ----> Data is: Hello There ! Company welcomes you.Have a great day ahead.\n",
      "Filename : Company_Data9.txt ----> Data is: Hello There ! Company welcomes you.Have a great day ahead.\n"
     ]
    }
   ],
   "source": [
    "#Ans 3:\n",
    "for i in files:\n",
    "    f=open(i,'r')\n",
    "    \n",
    "    \n",
    "    f.seek(0)   #This we have done to ensure that i would start from begining.\n",
    "    print(\"Filename :\",i,\"----> Data is:\",f.read())"
   ]
  },
  {
   "cell_type": "code",
   "execution_count": 162,
   "id": "33e8d195",
   "metadata": {},
   "outputs": [],
   "source": [
    "#Ans 4: Hold all data inside a list."
   ]
  },
  {
   "cell_type": "code",
   "execution_count": 163,
   "id": "1251e6c0",
   "metadata": {},
   "outputs": [],
   "source": [
    "list_of_files=[]\n",
    "    \n",
    "for i in files:\n",
    "    f=open(i,'r')\n",
    "    f.seek(0)   #This we have done to ensure that i would start from begining.\n",
    "    e=f.read()\n",
    "    \n",
    "    list_of_files.append(e) "
   ]
  },
  {
   "cell_type": "code",
   "execution_count": 164,
   "id": "b571cc64",
   "metadata": {},
   "outputs": [
    {
     "data": {
      "text/plain": [
       "['Hello There ! Company welcomes you.Have a great day ahead.',\n",
       " 'Hello There ! Company welcomes you.Have a great day ahead.',\n",
       " 'Hello There ! Company welcomes you.Have a great day ahead.',\n",
       " 'Hello There ! Company welcomes you.Have a great day ahead.',\n",
       " 'Hello There ! Company welcomes you.Have a great day ahead.',\n",
       " 'Hello There ! Company welcomes you.Have a great day ahead.',\n",
       " 'Hello There ! Company welcomes you.Have a great day ahead.',\n",
       " 'Hello There ! Company welcomes you.Have a great day ahead.',\n",
       " 'Hello There ! Company welcomes you.Have a great day ahead.',\n",
       " 'Hello There ! Company welcomes you.Have a great day ahead.',\n",
       " 'Hello There ! Company welcomes you.Have a great day ahead.',\n",
       " 'Hello There ! Company welcomes you.Have a great day ahead.',\n",
       " 'Hello There ! Company welcomes you.Have a great day ahead.',\n",
       " 'Hello There ! Company welcomes you.Have a great day ahead.',\n",
       " 'Hello There ! Company welcomes you.Have a great day ahead.',\n",
       " 'Hello There ! Company welcomes you.Have a great day ahead.',\n",
       " 'Hello There ! Company welcomes you.Have a great day ahead.',\n",
       " 'Hello There ! Company welcomes you.Have a great day ahead.',\n",
       " 'Hello There ! Company welcomes you.Have a great day ahead.']"
      ]
     },
     "execution_count": 164,
     "metadata": {},
     "output_type": "execute_result"
    }
   ],
   "source": [
    "list_of_files"
   ]
  },
  {
   "cell_type": "code",
   "execution_count": 165,
   "id": "f84b75ee",
   "metadata": {},
   "outputs": [],
   "source": [
    " #Write all the data in a new file from list.\n",
    "#Ans 5:\n",
    "\n",
    "new_file=open(\"New_List_of_data.txt\",'wb')   #Lets create new file.\n",
    "\n",
    "new_file=open(\"New_List_of_data.txt\",'w')\n",
    "\n",
    "for j in list_of_files:\n",
    "    new_file.write(j)"
   ]
  },
  {
   "cell_type": "code",
   "execution_count": 166,
   "id": "a86859ca",
   "metadata": {},
   "outputs": [],
   "source": [
    "#Lets open this file in read mode and read all the data inside it.\n",
    "\n",
    "new_file=open(\"New_List_of_data.txt\",'r')"
   ]
  },
  {
   "cell_type": "code",
   "execution_count": 167,
   "id": "9772c0b8",
   "metadata": {
    "scrolled": true
   },
   "outputs": [
    {
     "data": {
      "text/plain": [
       "['Hello There ! Company welcomes you.Have a great day ahead.Hello There ! Company welcomes you.Have a great day ahead.Hello There ! Company welcomes you.Have a great day ahead.Hello There ! Company welcomes you.Have a great day ahead.Hello There ! Company welcomes you.Have a great day ahead.Hello There ! Company welcomes you.Have a great day ahead.Hello There ! Company welcomes you.Have a great day ahead.Hello There ! Company welcomes you.Have a great day ahead.Hello There ! Company welcomes you.Have a great day ahead.Hello There ! Company welcomes you.Have a great day ahead.Hello There ! Company welcomes you.Have a great day ahead.Hello There ! Company welcomes you.Have a great day ahead.Hello There ! Company welcomes you.Have a great day ahead.Hello There ! Company welcomes you.Have a great day ahead.Hello There ! Company welcomes you.Have a great day ahead.Hello There ! Company welcomes you.Have a great day ahead.Hello There ! Company welcomes you.Have a great day ahead.Hello There ! Company welcomes you.Have a great day ahead.Hello There ! Company welcomes you.Have a great day ahead.']"
      ]
     },
     "execution_count": 167,
     "metadata": {},
     "output_type": "execute_result"
    }
   ],
   "source": [
    "new_file.seek(0)\n",
    "r=new_file.readlines()\n",
    "r"
   ]
  },
  {
   "cell_type": "code",
   "execution_count": 168,
   "id": "3f4bd53b",
   "metadata": {},
   "outputs": [],
   "source": [
    "new=str(r).replace(\"[\",\" \").replace(\"]\",\" \").strip()"
   ]
  },
  {
   "cell_type": "code",
   "execution_count": 169,
   "id": "d7c18779",
   "metadata": {},
   "outputs": [
    {
     "data": {
      "text/plain": [
       "\"'Hello There ! Company welcomes you.Have a great day ahead.Hello There ! Company welcomes you.Have a great day ahead.Hello There ! Company welcomes you.Have a great day ahead.Hello There ! Company welcomes you.Have a great day ahead.Hello There ! Company welcomes you.Have a great day ahead.Hello There ! Company welcomes you.Have a great day ahead.Hello There ! Company welcomes you.Have a great day ahead.Hello There ! Company welcomes you.Have a great day ahead.Hello There ! Company welcomes you.Have a great day ahead.Hello There ! Company welcomes you.Have a great day ahead.Hello There ! Company welcomes you.Have a great day ahead.Hello There ! Company welcomes you.Have a great day ahead.Hello There ! Company welcomes you.Have a great day ahead.Hello There ! Company welcomes you.Have a great day ahead.Hello There ! Company welcomes you.Have a great day ahead.Hello There ! Company welcomes you.Have a great day ahead.Hello There ! Company welcomes you.Have a great day ahead.Hello There ! Company welcomes you.Have a great day ahead.Hello There ! Company welcomes you.Have a great day ahead.'\""
      ]
     },
     "execution_count": 169,
     "metadata": {},
     "output_type": "execute_result"
    }
   ],
   "source": [
    "new"
   ]
  },
  {
   "cell_type": "code",
   "execution_count": 170,
   "id": "301d3f63",
   "metadata": {},
   "outputs": [],
   "source": [
    "new_file.close()"
   ]
  },
  {
   "cell_type": "code",
   "execution_count": 171,
   "id": "26f58662",
   "metadata": {},
   "outputs": [],
   "source": [
    "#Keep only a new file (dumped list) in present directoty and move rest(other 10 files ) in new directory.\n",
    "#Ans 6:"
   ]
  },
  {
   "cell_type": "code",
   "execution_count": 172,
   "id": "1efa76f6",
   "metadata": {},
   "outputs": [
    {
     "data": {
      "text/plain": [
       "'C:\\\\Users\\\\Admin\\\\Desktop\\\\ineuron\\\\FSDS ineuron\\\\01.PYTHON\\\\Code\\\\09.This_is_new_directory_for_OS\\\\Task_dir_given_by_sir'"
      ]
     },
     "execution_count": 172,
     "metadata": {},
     "output_type": "execute_result"
    }
   ],
   "source": [
    "pwd()"
   ]
  },
  {
   "cell_type": "code",
   "execution_count": 173,
   "id": "55491f34",
   "metadata": {},
   "outputs": [
    {
     "data": {
      "text/plain": [
       "['Company_Data1.txt',\n",
       " 'Company_Data10.txt',\n",
       " 'Company_Data11.txt',\n",
       " 'Company_Data12.txt',\n",
       " 'Company_Data13.txt',\n",
       " 'Company_Data14.txt',\n",
       " 'Company_Data15.txt',\n",
       " 'Company_Data16.txt',\n",
       " 'Company_Data17.txt',\n",
       " 'Company_Data18.txt',\n",
       " 'Company_Data19.txt',\n",
       " 'Company_Data2.txt',\n",
       " 'Company_Data3.txt',\n",
       " 'Company_Data4.txt',\n",
       " 'Company_Data5.txt',\n",
       " 'Company_Data6.txt',\n",
       " 'Company_Data7.txt',\n",
       " 'Company_Data8.txt',\n",
       " 'Company_Data9.txt',\n",
       " 'New_List_of_data.txt']"
      ]
     },
     "execution_count": 173,
     "metadata": {},
     "output_type": "execute_result"
    }
   ],
   "source": [
    "#So keeping this file new in this directory only.\n",
    "files=os.listdir()\n",
    "files"
   ]
  },
  {
   "cell_type": "code",
   "execution_count": 174,
   "id": "ebe527d9",
   "metadata": {},
   "outputs": [
    {
     "name": "stdout",
     "output_type": "stream",
     "text": [
      "Company_Data1.txt\n",
      "Company_Data10.txt\n",
      "Company_Data11.txt\n",
      "Company_Data12.txt\n",
      "Company_Data13.txt\n",
      "Company_Data14.txt\n",
      "Company_Data15.txt\n",
      "Company_Data16.txt\n",
      "Company_Data17.txt\n",
      "Company_Data18.txt\n",
      "Company_Data19.txt\n",
      "Company_Data2.txt\n",
      "Company_Data3.txt\n",
      "Company_Data4.txt\n",
      "Company_Data5.txt\n",
      "Company_Data6.txt\n",
      "Company_Data7.txt\n",
      "Company_Data8.txt\n",
      "Company_Data9.txt\n"
     ]
    }
   ],
   "source": [
    "for i in files[:-1]:\n",
    "    print(i)"
   ]
  },
  {
   "cell_type": "code",
   "execution_count": 175,
   "id": "ca271df5",
   "metadata": {},
   "outputs": [
    {
     "name": "stdout",
     "output_type": "stream",
     "text": [
      "['Company_Data1.txt', 'Company_Data10.txt', 'Company_Data11.txt', 'Company_Data12.txt', 'Company_Data13.txt', 'Company_Data14.txt', 'Company_Data15.txt', 'Company_Data16.txt', 'Company_Data17.txt', 'Company_Data18.txt', 'Company_Data19.txt', 'Company_Data2.txt', 'Company_Data3.txt', 'Company_Data4.txt', 'Company_Data5.txt', 'Company_Data6.txt', 'Company_Data7.txt', 'Company_Data8.txt', 'Company_Data9.txt', 'New_List_of_data.txt']\n"
     ]
    }
   ],
   "source": [
    "import os\n",
    "import shutil\n",
    "\n",
    "source_dir = 'C:\\\\Users\\\\Admin\\\\Desktop\\\\ineuron\\\\FSDS ineuron\\\\01.PYTHON\\\\Code\\\\09.This_is_new_directory_for_OS\\\\Task_dir_given_by_sir'\n",
    "destination_dir = 'C:\\\\Users\\\\Admin\\\\Desktop\\\\ineuron\\\\FSDS ineuron\\\\01.PYTHON\\\\Code\\\\09.This_is_new_directory_for_OS\\\\New_directory_created'\n",
    "\n",
    "files = os.listdir(source_dir)\n",
    "print(files)\n"
   ]
  },
  {
   "attachments": {
    "3.gif": {
     "image/gif": "[encoded data removed]"
    }
   },
   "cell_type": "markdown",
   "id": "63175c3f-9211-47c5-bd8b-a5f245096ee4",
   "metadata": {},
   "source": [
    "![3.gif](attachment:3.gif)"
   ]
  }
 ],
 "metadata": {
  "kernelspec": {
   "display_name": "Python3",
   "language": "python",
   "name": "python3"
  },
  "language_info": {
   "codemirror_mode": {
    "name": "ipython",
    "version": 3
   },
   "file_extension": ".py",
   "mimetype": "text/x-python",
   "name": "python",
   "nbconvert_exporter": "python",
   "pygments_lexer": "ipython3",
   "version": "3.11.5"
  }
 },
 "nbformat": 4,
 "nbformat_minor": 5
}
